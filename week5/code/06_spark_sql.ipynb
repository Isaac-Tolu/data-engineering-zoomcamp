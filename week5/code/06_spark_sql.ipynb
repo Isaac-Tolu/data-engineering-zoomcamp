{
 "cells": [
  {
   "cell_type": "code",
   "execution_count": 1,
   "id": "4eb5983d",
   "metadata": {},
   "outputs": [
    {
     "name": "stderr",
     "output_type": "stream",
     "text": [
      "WARNING: An illegal reflective access operation has occurred\n",
      "WARNING: Illegal reflective access by org.apache.spark.unsafe.Platform (file:/home/toluwani/spark/spark-3.0.3-bin-hadoop3.2/jars/spark-unsafe_2.12-3.0.3.jar) to constructor java.nio.DirectByteBuffer(long,int)\n",
      "WARNING: Please consider reporting this to the maintainers of org.apache.spark.unsafe.Platform\n",
      "WARNING: Use --illegal-access=warn to enable warnings of further illegal reflective access operations\n",
      "WARNING: All illegal access operations will be denied in a future release\n",
      "22/02/26 14:10:59 WARN NativeCodeLoader: Unable to load native-hadoop library for your platform... using builtin-java classes where applicable\n",
      "Using Spark's default log4j profile: org/apache/spark/log4j-defaults.properties\n",
      "Setting default log level to \"WARN\".\n",
      "To adjust logging level use sc.setLogLevel(newLevel). For SparkR, use setLogLevel(newLevel).\n"
     ]
    }
   ],
   "source": [
    "from pyspark.sql import SparkSession\n",
    "\n",
    "spark = SparkSession.builder \\\n",
    "    .master(\"local[*]\") \\\n",
    "    .appName('test') \\\n",
    "    .getOrCreate()"
   ]
  },
  {
   "cell_type": "code",
   "execution_count": 2,
   "id": "4ef4ca99",
   "metadata": {},
   "outputs": [
    {
     "name": "stderr",
     "output_type": "stream",
     "text": [
      "\r",
      "[Stage 0:>                                                          (0 + 1) / 1]\r",
      "\r",
      "                                                                                \r"
     ]
    }
   ],
   "source": [
    "df_green = spark.read.parquet('data/pq/green/*/*')"
   ]
  },
  {
   "cell_type": "code",
   "execution_count": 3,
   "id": "8681efd0",
   "metadata": {},
   "outputs": [
    {
     "name": "stdout",
     "output_type": "stream",
     "text": [
      "+--------+--------------------+---------------------+------------------+----------+------------+------------+---------------+-------------+-----------+-----+-------+----------+------------+---------+---------------------+------------+------------+---------+--------------------+\n",
      "|VendorID|lpep_pickup_datetime|lpep_dropoff_datetime|store_and_fwd_flag|RatecodeID|PULocationID|DOLocationID|passenger_count|trip_distance|fare_amount|extra|mta_tax|tip_amount|tolls_amount|ehail_fee|improvement_surcharge|total_amount|payment_type|trip_type|congestion_surcharge|\n",
      "+--------+--------------------+---------------------+------------------+----------+------------+------------+---------------+-------------+-----------+-----+-------+----------+------------+---------+---------------------+------------+------------+---------+--------------------+\n",
      "|       2| 2020-01-16 19:49:27|  2020-01-16 20:06:44|                 N|         1|         260|         173|              1|         2.59|       12.5|  1.0|    0.5|       0.0|         0.0|     null|                  0.3|        14.3|           2|        1|                 0.0|\n",
      "|       2| 2020-01-19 01:55:32|  2020-01-19 02:17:06|                 N|         1|         181|         211|              1|         6.25|       21.0|  0.5|    0.5|       0.0|         0.0|     null|                  0.3|       25.05|           2|        1|                2.75|\n",
      "|       2| 2020-01-18 15:58:31|  2020-01-18 16:14:46|                 N|         1|          74|         244|              1|          2.8|       12.5|  0.0|    0.5|       1.0|         0.0|     null|                  0.3|        14.3|           1|        1|                 0.0|\n",
      "|    null| 2020-01-03 09:37:00|  2020-01-03 09:48:00|              null|      null|          51|         185|           null|         2.55|      11.39|  0.0|    0.0|       0.0|         0.0|     null|                  0.3|       11.69|        null|     null|                null|\n",
      "|       2| 2020-01-27 09:27:18|  2020-01-27 09:27:23|                 N|         1|         146|         146|              1|         0.02|        2.5|  0.0|    0.5|       0.0|         0.0|     null|                  0.3|         3.3|           2|        1|                 0.0|\n",
      "|       2| 2020-01-14 09:33:35|  2020-01-14 09:44:14|                 N|         1|         129|         226|              1|         2.21|        9.5|  0.0|    0.5|      2.06|         0.0|     null|                  0.3|       12.36|           1|        1|                 0.0|\n",
      "|       2| 2020-01-27 22:52:52|  2020-01-27 22:59:00|                 N|         1|          74|         194|              1|         2.26|        9.0|  0.5|    0.5|       0.0|        6.12|     null|                  0.3|       16.42|           1|        1|                 0.0|\n",
      "|    null| 2020-01-19 07:35:00|  2020-01-19 07:59:00|              null|      null|          51|         116|           null|        10.87|      38.29| 2.75|    0.0|       0.0|         0.0|     null|                  0.3|       41.34|        null|     null|                null|\n",
      "|       2| 2020-01-07 06:36:27|  2020-01-07 06:48:27|                 N|         1|         244|          74|              1|         3.05|       11.5|  0.0|    0.5|      3.08|         0.0|     null|                  0.3|       15.38|           1|        1|                 0.0|\n",
      "|       2| 2020-01-17 21:06:51|  2020-01-17 21:41:21|                 N|         5|          66|         132|              1|        18.35|       38.0|  0.0|    0.0|      7.66|         0.0|     null|                  0.3|       45.96|           1|        2|                 0.0|\n",
      "|       2| 2020-01-16 17:39:15|  2020-01-16 17:56:25|                 N|         1|          75|         143|              1|         2.45|       12.5|  1.0|    0.5|       0.0|         0.0|     null|                  0.3|       17.05|           2|        1|                2.75|\n",
      "|       2| 2020-01-24 22:33:24|  2020-01-24 23:28:48|                 N|         1|          75|          74|              1|         0.62|       30.0|  0.5|    0.5|       0.0|         0.0|     null|                  0.3|        31.3|           1|        1|                 0.0|\n",
      "|       1| 2020-01-09 23:58:57|  2020-01-10 00:09:27|                 N|         1|          65|          97|              1|          1.5|        8.5|  0.5|    0.5|      2.45|         0.0|     null|                  0.3|       12.25|           1|        1|                 0.0|\n",
      "|       2| 2020-01-17 08:48:46|  2020-01-17 09:01:12|                 N|         1|          95|         135|              1|         2.38|       11.0|  0.0|    0.5|       0.0|         0.0|     null|                  0.3|        11.8|           2|        1|                 0.0|\n",
      "|    null| 2020-01-28 20:59:00|  2020-01-28 21:28:00|              null|      null|          42|          10|           null|        15.78|      50.62| 2.75|    0.0|       0.0|        6.12|     null|                  0.3|       59.79|        null|     null|                null|\n",
      "|       2| 2020-01-14 17:45:35|  2020-01-14 17:54:31|                 N|         1|         129|          82|              1|         0.89|        7.0|  1.0|    0.5|       0.0|         0.0|     null|                  0.3|         8.8|           2|        1|                 0.0|\n",
      "|       2| 2020-01-26 17:11:06|  2020-01-26 17:27:14|                 N|         1|          95|          92|              1|         4.64|       16.5|  0.0|    0.5|       0.0|         0.0|     null|                  0.3|        17.3|           2|        1|                 0.0|\n",
      "|       2| 2020-01-05 18:33:20|  2020-01-05 18:39:20|                 N|         1|          74|          42|              1|         0.97|        6.0|  0.0|    0.5|       3.0|         0.0|     null|                  0.3|         9.8|           1|        1|                 0.0|\n",
      "|       2| 2020-01-12 20:53:46|  2020-01-12 20:59:01|                 N|         1|          74|          42|              1|         1.33|        6.5|  0.5|    0.5|       0.0|         0.0|     null|                  0.3|         7.8|           2|        1|                 0.0|\n",
      "|       2| 2020-01-17 22:33:35|  2020-01-17 22:47:30|                 N|         1|          74|         140|              1|         3.02|       12.0|  0.5|    0.5|      3.21|         0.0|     null|                  0.3|       19.26|           1|        1|                2.75|\n",
      "+--------+--------------------+---------------------+------------------+----------+------------+------------+---------------+-------------+-----------+-----+-------+----------+------------+---------+---------------------+------------+------------+---------+--------------------+\n",
      "only showing top 20 rows\n",
      "\n"
     ]
    },
    {
     "name": "stderr",
     "output_type": "stream",
     "text": [
      "\r",
      "[Stage 1:>                                                          (0 + 1) / 1]\r",
      "\r",
      "                                                                                \r"
     ]
    }
   ],
   "source": [
    "df_green.show()"
   ]
  },
  {
   "cell_type": "code",
   "execution_count": 4,
   "id": "bed6eda5",
   "metadata": {},
   "outputs": [
    {
     "name": "stdout",
     "output_type": "stream",
     "text": [
      "root\n",
      " |-- VendorID: integer (nullable = true)\n",
      " |-- lpep_pickup_datetime: timestamp (nullable = true)\n",
      " |-- lpep_dropoff_datetime: timestamp (nullable = true)\n",
      " |-- store_and_fwd_flag: string (nullable = true)\n",
      " |-- RatecodeID: integer (nullable = true)\n",
      " |-- PULocationID: integer (nullable = true)\n",
      " |-- DOLocationID: integer (nullable = true)\n",
      " |-- passenger_count: integer (nullable = true)\n",
      " |-- trip_distance: double (nullable = true)\n",
      " |-- fare_amount: double (nullable = true)\n",
      " |-- extra: double (nullable = true)\n",
      " |-- mta_tax: double (nullable = true)\n",
      " |-- tip_amount: double (nullable = true)\n",
      " |-- tolls_amount: double (nullable = true)\n",
      " |-- ehail_fee: double (nullable = true)\n",
      " |-- improvement_surcharge: double (nullable = true)\n",
      " |-- total_amount: double (nullable = true)\n",
      " |-- payment_type: integer (nullable = true)\n",
      " |-- trip_type: integer (nullable = true)\n",
      " |-- congestion_surcharge: double (nullable = true)\n",
      "\n"
     ]
    }
   ],
   "source": [
    "df_green.printSchema()"
   ]
  },
  {
   "cell_type": "code",
   "execution_count": 5,
   "id": "c3428d05",
   "metadata": {},
   "outputs": [],
   "source": [
    "df_yellow = spark.read.parquet('data/pq/yellow/*/*')"
   ]
  },
  {
   "cell_type": "code",
   "execution_count": 6,
   "id": "a5a48c01",
   "metadata": {},
   "outputs": [
    {
     "name": "stdout",
     "output_type": "stream",
     "text": [
      "root\n",
      " |-- VendorID: integer (nullable = true)\n",
      " |-- tpep_pickup_datetime: timestamp (nullable = true)\n",
      " |-- tpep_dropoff_datetime: timestamp (nullable = true)\n",
      " |-- passenger_count: integer (nullable = true)\n",
      " |-- trip_distance: double (nullable = true)\n",
      " |-- RatecodeID: integer (nullable = true)\n",
      " |-- store_and_fwd_flag: string (nullable = true)\n",
      " |-- PULocationID: integer (nullable = true)\n",
      " |-- DOLocationID: integer (nullable = true)\n",
      " |-- payment_type: integer (nullable = true)\n",
      " |-- fare_amount: double (nullable = true)\n",
      " |-- extra: double (nullable = true)\n",
      " |-- mta_tax: double (nullable = true)\n",
      " |-- tip_amount: double (nullable = true)\n",
      " |-- tolls_amount: double (nullable = true)\n",
      " |-- improvement_surcharge: double (nullable = true)\n",
      " |-- total_amount: double (nullable = true)\n",
      " |-- congestion_surcharge: double (nullable = true)\n",
      "\n"
     ]
    }
   ],
   "source": [
    "df_yellow.printSchema()"
   ]
  },
  {
   "cell_type": "code",
   "execution_count": 7,
   "id": "5716e274",
   "metadata": {},
   "outputs": [
    {
     "data": {
      "text/plain": [
       "['VendorID',\n",
       " 'lpep_pickup_datetime',\n",
       " 'lpep_dropoff_datetime',\n",
       " 'store_and_fwd_flag',\n",
       " 'RatecodeID',\n",
       " 'PULocationID',\n",
       " 'DOLocationID',\n",
       " 'passenger_count',\n",
       " 'trip_distance',\n",
       " 'fare_amount',\n",
       " 'extra',\n",
       " 'mta_tax',\n",
       " 'tip_amount',\n",
       " 'tolls_amount',\n",
       " 'ehail_fee',\n",
       " 'improvement_surcharge',\n",
       " 'total_amount',\n",
       " 'payment_type',\n",
       " 'trip_type',\n",
       " 'congestion_surcharge']"
      ]
     },
     "execution_count": 7,
     "metadata": {},
     "output_type": "execute_result"
    }
   ],
   "source": [
    "df_green.columns"
   ]
  },
  {
   "cell_type": "code",
   "execution_count": 9,
   "id": "5189e41b",
   "metadata": {},
   "outputs": [
    {
     "data": {
      "text/plain": [
       "['VendorID',\n",
       " 'pickup_datetime',\n",
       " 'dropoff_datetime',\n",
       " 'store_and_fwd_flag',\n",
       " 'RatecodeID',\n",
       " 'PULocationID',\n",
       " 'DOLocationID',\n",
       " 'passenger_count',\n",
       " 'trip_distance',\n",
       " 'fare_amount',\n",
       " 'extra',\n",
       " 'mta_tax',\n",
       " 'tip_amount',\n",
       " 'tolls_amount',\n",
       " 'ehail_fee',\n",
       " 'improvement_surcharge',\n",
       " 'total_amount',\n",
       " 'payment_type',\n",
       " 'trip_type',\n",
       " 'congestion_surcharge']"
      ]
     },
     "execution_count": 9,
     "metadata": {},
     "output_type": "execute_result"
    }
   ],
   "source": [
    "df_green = df_green \\\n",
    "    .withColumnRenamed('lpep_pickup_datetime', 'pickup_datetime') \\\n",
    "    .withColumnRenamed('lpep_dropoff_datetime', 'dropoff_datetime')\n",
    "\n",
    "df_green.columns"
   ]
  },
  {
   "cell_type": "code",
   "execution_count": 10,
   "id": "e05330d2",
   "metadata": {},
   "outputs": [
    {
     "data": {
      "text/plain": [
       "['VendorID',\n",
       " 'tpep_pickup_datetime',\n",
       " 'tpep_dropoff_datetime',\n",
       " 'passenger_count',\n",
       " 'trip_distance',\n",
       " 'RatecodeID',\n",
       " 'store_and_fwd_flag',\n",
       " 'PULocationID',\n",
       " 'DOLocationID',\n",
       " 'payment_type',\n",
       " 'fare_amount',\n",
       " 'extra',\n",
       " 'mta_tax',\n",
       " 'tip_amount',\n",
       " 'tolls_amount',\n",
       " 'improvement_surcharge',\n",
       " 'total_amount',\n",
       " 'congestion_surcharge']"
      ]
     },
     "execution_count": 10,
     "metadata": {},
     "output_type": "execute_result"
    }
   ],
   "source": [
    "df_yellow.columns"
   ]
  },
  {
   "cell_type": "code",
   "execution_count": 11,
   "id": "50651b94",
   "metadata": {},
   "outputs": [
    {
     "data": {
      "text/plain": [
       "['VendorID',\n",
       " 'pickup_datetime',\n",
       " 'dropoff_datetime',\n",
       " 'passenger_count',\n",
       " 'trip_distance',\n",
       " 'RatecodeID',\n",
       " 'store_and_fwd_flag',\n",
       " 'PULocationID',\n",
       " 'DOLocationID',\n",
       " 'payment_type',\n",
       " 'fare_amount',\n",
       " 'extra',\n",
       " 'mta_tax',\n",
       " 'tip_amount',\n",
       " 'tolls_amount',\n",
       " 'improvement_surcharge',\n",
       " 'total_amount',\n",
       " 'congestion_surcharge']"
      ]
     },
     "execution_count": 11,
     "metadata": {},
     "output_type": "execute_result"
    }
   ],
   "source": [
    "df_yellow = df_yellow \\\n",
    "    .withColumnRenamed('tpep_pickup_datetime', 'pickup_datetime') \\\n",
    "    .withColumnRenamed('tpep_dropoff_datetime', 'dropoff_datetime')\n",
    "\n",
    "df_yellow.columns"
   ]
  },
  {
   "cell_type": "markdown",
   "id": "69f7c9fa",
   "metadata": {},
   "source": [
    "#### We want to join yellow and green tripdata tables, but the schemas are a little bit different. Green tripdata has more column fields than yellow tripdata"
   ]
  },
  {
   "cell_type": "code",
   "execution_count": 12,
   "id": "461916de",
   "metadata": {},
   "outputs": [
    {
     "data": {
      "text/plain": [
       "{'DOLocationID',\n",
       " 'PULocationID',\n",
       " 'RatecodeID',\n",
       " 'VendorID',\n",
       " 'congestion_surcharge',\n",
       " 'dropoff_datetime',\n",
       " 'extra',\n",
       " 'fare_amount',\n",
       " 'improvement_surcharge',\n",
       " 'mta_tax',\n",
       " 'passenger_count',\n",
       " 'payment_type',\n",
       " 'pickup_datetime',\n",
       " 'store_and_fwd_flag',\n",
       " 'tip_amount',\n",
       " 'tolls_amount',\n",
       " 'total_amount',\n",
       " 'trip_distance'}"
      ]
     },
     "execution_count": 12,
     "metadata": {},
     "output_type": "execute_result"
    }
   ],
   "source": [
    "# Set functions does not preserve the order\n",
    "set(df_green.columns) & set(df_yellow.columns)"
   ]
  },
  {
   "cell_type": "code",
   "execution_count": 13,
   "id": "6707dbe5",
   "metadata": {},
   "outputs": [
    {
     "data": {
      "text/plain": [
       "['VendorID',\n",
       " 'pickup_datetime',\n",
       " 'dropoff_datetime',\n",
       " 'store_and_fwd_flag',\n",
       " 'RatecodeID',\n",
       " 'PULocationID',\n",
       " 'DOLocationID',\n",
       " 'passenger_count',\n",
       " 'trip_distance',\n",
       " 'fare_amount',\n",
       " 'extra',\n",
       " 'mta_tax',\n",
       " 'tip_amount',\n",
       " 'tolls_amount',\n",
       " 'improvement_surcharge',\n",
       " 'total_amount',\n",
       " 'payment_type',\n",
       " 'congestion_surcharge']"
      ]
     },
     "execution_count": 13,
     "metadata": {},
     "output_type": "execute_result"
    }
   ],
   "source": [
    "# This would preserve the order:\n",
    "\n",
    "common_columns = []\n",
    "\n",
    "for column in df_green.columns:\n",
    "    if column in df_yellow.columns:\n",
    "        common_columns.append(column)\n",
    "        \n",
    "common_columns"
   ]
  },
  {
   "cell_type": "code",
   "execution_count": 14,
   "id": "3a97a3e8",
   "metadata": {},
   "outputs": [],
   "source": [
    "from pyspark.sql import functions as F"
   ]
  },
  {
   "cell_type": "code",
   "execution_count": 21,
   "id": "57910e87",
   "metadata": {},
   "outputs": [],
   "source": [
    "df_green_sel = df_green \\\n",
    "    .select(common_columns) \\\n",
    "    .withColumn('service_type', F.lit('green'))"
   ]
  },
  {
   "cell_type": "code",
   "execution_count": 20,
   "id": "5fbfe65b",
   "metadata": {},
   "outputs": [],
   "source": [
    "df_yellow_sel = df_yellow \\\n",
    "    .select(common_columns) \\\n",
    "    .withColumn('service_type', F.lit('yellow'))"
   ]
  },
  {
   "cell_type": "code",
   "execution_count": 22,
   "id": "37805c20",
   "metadata": {},
   "outputs": [],
   "source": [
    "df_trips_data = df_green_sel.unionAll(df_yellow_sel)"
   ]
  },
  {
   "cell_type": "code",
   "execution_count": 24,
   "id": "3c94d3ba",
   "metadata": {},
   "outputs": [
    {
     "name": "stderr",
     "output_type": "stream",
     "text": [
      "                                                                                \r"
     ]
    },
    {
     "name": "stdout",
     "output_type": "stream",
     "text": [
      "+------------+--------+\n",
      "|service_type|   count|\n",
      "+------------+--------+\n",
      "|       green| 2304517|\n",
      "|      yellow|39649199|\n",
      "+------------+--------+\n",
      "\n"
     ]
    }
   ],
   "source": [
    "df_trips_data.groupBy('service_type').count().show()"
   ]
  },
  {
   "cell_type": "code",
   "execution_count": 27,
   "id": "c7e9bd25",
   "metadata": {},
   "outputs": [],
   "source": [
    "# spark needs to know that df_trips_data is a table\n",
    "df_trips_data.registerTempTable(\"trips_data\")"
   ]
  },
  {
   "cell_type": "code",
   "execution_count": 29,
   "id": "706c1a67",
   "metadata": {},
   "outputs": [
    {
     "name": "stderr",
     "output_type": "stream",
     "text": [
      "\r",
      "[Stage 14:==============================>                          (8 + 4) / 15]\r"
     ]
    },
    {
     "name": "stdout",
     "output_type": "stream",
     "text": [
      "+--------+-------------------+-------------------+------------------+----------+------------+------------+---------------+-------------+-----------+-----+-------+----------+------------+---------------------+------------+------------+--------------------+------------+\n",
      "|VendorID|    pickup_datetime|   dropoff_datetime|store_and_fwd_flag|RatecodeID|PULocationID|DOLocationID|passenger_count|trip_distance|fare_amount|extra|mta_tax|tip_amount|tolls_amount|improvement_surcharge|total_amount|payment_type|congestion_surcharge|service_type|\n",
      "+--------+-------------------+-------------------+------------------+----------+------------+------------+---------------+-------------+-----------+-----+-------+----------+------------+---------------------+------------+------------+--------------------+------------+\n",
      "|       2|2020-01-16 19:49:27|2020-01-16 20:06:44|                 N|         1|         260|         173|              1|         2.59|       12.5|  1.0|    0.5|       0.0|         0.0|                  0.3|        14.3|           2|                 0.0|       green|\n",
      "|       2|2020-01-19 01:55:32|2020-01-19 02:17:06|                 N|         1|         181|         211|              1|         6.25|       21.0|  0.5|    0.5|       0.0|         0.0|                  0.3|       25.05|           2|                2.75|       green|\n",
      "|       2|2020-01-18 15:58:31|2020-01-18 16:14:46|                 N|         1|          74|         244|              1|          2.8|       12.5|  0.0|    0.5|       1.0|         0.0|                  0.3|        14.3|           1|                 0.0|       green|\n",
      "|    null|2020-01-03 09:37:00|2020-01-03 09:48:00|              null|      null|          51|         185|           null|         2.55|      11.39|  0.0|    0.0|       0.0|         0.0|                  0.3|       11.69|        null|                null|       green|\n",
      "|       2|2020-01-27 09:27:18|2020-01-27 09:27:23|                 N|         1|         146|         146|              1|         0.02|        2.5|  0.0|    0.5|       0.0|         0.0|                  0.3|         3.3|           2|                 0.0|       green|\n",
      "|       2|2020-01-14 09:33:35|2020-01-14 09:44:14|                 N|         1|         129|         226|              1|         2.21|        9.5|  0.0|    0.5|      2.06|         0.0|                  0.3|       12.36|           1|                 0.0|       green|\n",
      "|       2|2020-01-27 22:52:52|2020-01-27 22:59:00|                 N|         1|          74|         194|              1|         2.26|        9.0|  0.5|    0.5|       0.0|        6.12|                  0.3|       16.42|           1|                 0.0|       green|\n",
      "|    null|2020-01-19 07:35:00|2020-01-19 07:59:00|              null|      null|          51|         116|           null|        10.87|      38.29| 2.75|    0.0|       0.0|         0.0|                  0.3|       41.34|        null|                null|       green|\n",
      "|       2|2020-01-07 06:36:27|2020-01-07 06:48:27|                 N|         1|         244|          74|              1|         3.05|       11.5|  0.0|    0.5|      3.08|         0.0|                  0.3|       15.38|           1|                 0.0|       green|\n",
      "|       2|2020-01-17 21:06:51|2020-01-17 21:41:21|                 N|         5|          66|         132|              1|        18.35|       38.0|  0.0|    0.0|      7.66|         0.0|                  0.3|       45.96|           1|                 0.0|       green|\n",
      "+--------+-------------------+-------------------+------------------+----------+------------+------------+---------------+-------------+-----------+-----+-------+----------+------------+---------------------+------------+------------+--------------------+------------+\n",
      "\n"
     ]
    },
    {
     "name": "stderr",
     "output_type": "stream",
     "text": [
      "\r",
      "[Stage 14:============================================>           (12 + 3) / 15]\r",
      "\r",
      "                                                                                \r"
     ]
    }
   ],
   "source": [
    "spark.sql(\"\"\"\n",
    "SELECT * FROM trips_data LIMIT 10;\n",
    "\"\"\").show()"
   ]
  },
  {
   "cell_type": "code",
   "execution_count": 38,
   "id": "371421e2",
   "metadata": {},
   "outputs": [
    {
     "name": "stderr",
     "output_type": "stream",
     "text": [
      "                                                                                \r"
     ]
    },
    {
     "name": "stdout",
     "output_type": "stream",
     "text": [
      "+------------+--------+\n",
      "|service_type|   count|\n",
      "+------------+--------+\n",
      "|       green| 2304517|\n",
      "|      yellow|39649199|\n",
      "+------------+--------+\n",
      "\n"
     ]
    }
   ],
   "source": [
    "spark.sql(\"\"\"\n",
    "SELECT \n",
    "    service_type,\n",
    "    count(1) AS count\n",
    "FROM\n",
    "    trips_data\n",
    "GROUP BY\n",
    "    service_type;\n",
    "\"\"\").show()"
   ]
  },
  {
   "cell_type": "code",
   "execution_count": 43,
   "id": "07f1810a",
   "metadata": {},
   "outputs": [],
   "source": [
    "df_result = spark.sql(\"\"\"\n",
    "SELECT\n",
    "    -- Revenue grouping \n",
    "    PULocationID AS revenue_zone,\n",
    "    date_trunc('month', pickup_datetime) AS revenue_month, \n",
    "    service_type, \n",
    "\n",
    "    -- Revenue calculation \n",
    "    SUM(fare_amount) AS revenue_monthly_fare,\n",
    "    SUM(extra) AS revenue_monthly_extra,\n",
    "    SUM(mta_tax) AS revenue_monthly_mta_tax,\n",
    "    SUM(tip_amount) AS revenue_monthly_tip_amount,\n",
    "    SUM(tolls_amount) AS revenue_monthly_tolls_amount,\n",
    "    SUM(improvement_surcharge) AS revenue_monthly_improvement_surcharge,\n",
    "    SUM(total_amount) AS revenue_monthly_total_amount,\n",
    "    SUM(congestion_surcharge) AS revenue_monthly_congestion_surcharge,\n",
    "\n",
    "    -- Additional calculations\n",
    "    AVG(passenger_count) AS avg_montly_passenger_count,\n",
    "    AVG(trip_distance) AS avg_montly_trip_distance\n",
    "\n",
    "FROM \n",
    "    trips_data\n",
    "GROUP BY \n",
    "    1,2,3\n",
    "\"\"\")"
   ]
  },
  {
   "cell_type": "code",
   "execution_count": 44,
   "id": "77058333",
   "metadata": {},
   "outputs": [
    {
     "name": "stderr",
     "output_type": "stream",
     "text": [
      "[Stage 26:====================================================>   (14 + 1) / 15]\r"
     ]
    },
    {
     "name": "stdout",
     "output_type": "stream",
     "text": [
      "+------------+-------------------+------------+--------------------+---------------------+-----------------------+--------------------------+----------------------------+-------------------------------------+----------------------------+------------------------------------+--------------------------+------------------------+\n",
      "|revenue_zone|      revenue_month|service_type|revenue_monthly_fare|revenue_monthly_extra|revenue_monthly_mta_tax|revenue_monthly_tip_amount|revenue_monthly_tolls_amount|revenue_monthly_improvement_surcharge|revenue_monthly_total_amount|revenue_monthly_congestion_surcharge|avg_montly_passenger_count|avg_montly_trip_distance|\n",
      "+------------+-------------------+------------+--------------------+---------------------+-----------------------+--------------------------+----------------------------+-------------------------------------+----------------------------+------------------------------------+--------------------------+------------------------+\n",
      "|         250|2020-02-01 00:00:00|       green|  15359.960000000032|               1282.5|                  117.5|        56.010000000000005|           590.3200000000004|                    180.0000000000011|          17598.439999999948|                                11.0|        1.2394957983193278|       4.962810650887575|\n",
      "|         158|2020-02-01 00:00:00|       green|              124.36|                 8.25|                    0.5|                       0.0|                         2.8|                   0.8999999999999999|                      136.81|                                null|                      null|      11.090000000000002|\n",
      "|          15|2020-03-01 00:00:00|       green|  1682.2300000000002|                  5.5|                    6.5|                       0.0|                       79.56|                   19.800000000000026|          1802.4399999999998|                                 0.0|                       1.0|       7.910298507462687|\n",
      "|         229|2020-03-01 00:00:00|       green|   676.3600000000001|                  0.0|                    1.0|                       0.0|          42.839999999999996|                    8.099999999999998|           728.2999999999998|                                 0.0|                       1.0|       7.691111111111111|\n",
      "|         137|2020-10-01 00:00:00|       green|   3480.829999999999|                  0.0|                    0.0|                     297.0|          250.92000000000007|                   32.400000000000034|          4061.1499999999996|                                null|                      null|       9.184722222222222|\n",
      "|          44|2020-10-01 00:00:00|       green|               146.5|                  3.5|                    2.0|                       5.5|                         0.0|                                  1.2|                       158.7|                                 0.0|                       1.0|                 12.0475|\n",
      "|          41|2020-11-01 00:00:00|       green|   52371.86999999992|              1341.25|                 2025.0|         5862.450000000012|           567.5700000000003|                    1374.299999999883|           65967.39000000329|                              2713.5|        1.2318805682639056|      10.049589277993947|\n",
      "|         108|2020-11-01 00:00:00|       green|   6710.019999999991|                  7.5|                   23.5|                    482.33|           215.7100000000001|                    54.29999999999984|           7496.110000000001|                                2.75|        1.0208333333333333|      238.73646408839784|\n",
      "|         259|2021-04-01 00:00:00|       green|   7895.719999999995|                585.2|                    6.0|        148.82999999999998|          465.24000000000035|                    71.09999999999968|           9177.590000000002|                                 0.0|                       1.2|       9.195020920502094|\n",
      "|         161|2021-04-01 00:00:00|       green|  1096.7499999999998|                 88.0|                    0.0|                       0.0|           63.22999999999999|                                  9.3|          1257.2799999999997|                                null|                      null|      10.048709677419358|\n",
      "|         131|2020-12-01 00:00:00|       green|   5490.600000000002|                  0.0|                    1.5|         561.1399999999999|          128.03000000000003|                     58.4999999999998|           6242.519999999997|                                 0.0|                       1.0|       5.940101522842643|\n",
      "|          15|2020-12-01 00:00:00|       green|   709.5199999999999|                  0.0|                    0.0|                     63.25|                       12.24|                    6.899999999999998|                      791.91|                                null|                      null|       6.340434782608695|\n",
      "|         123|2020-08-01 00:00:00|       green|   5276.649999999995|                  3.5|                   17.5|                    454.61|          118.18000000000002|                    59.99999999999979|           5930.440000000001|                                 0.0|                       1.0|       5.190900000000003|\n",
      "|         254|2021-01-01 00:00:00|       green|  10794.399999999989|               382.74|                   15.0|                    634.13|           421.2000000000002|                   113.99999999999928|          12364.220000000018|                                 0.0|        1.0303030303030303|      6.8015526315789465|\n",
      "|         167|2020-06-01 00:00:00|       green|   7510.849999999998|                 19.0|                   49.0|        433.06000000000006|          429.03000000000014|                    86.69999999999953|            8559.04000000001|                                 5.5|                     1.152|       6.481262798634811|\n",
      "|          37|2020-06-01 00:00:00|       green|   8582.560000000001|                 17.5|                   30.0|         491.5999999999999|           293.2500000000001|                    99.59999999999941|           9583.510000000004|                                16.5|        1.1333333333333333|       6.576987951807226|\n",
      "|         106|2020-06-01 00:00:00|       green|   3419.650000000001|                 6.75|                   10.5|        376.09999999999997|          42.839999999999996|                   44.399999999999935|           3916.289999999998|                                8.25|                       1.3|       5.232905405405406|\n",
      "|         242|2021-02-01 00:00:00|       green|  13165.010000000055|              1445.55|                   19.5|                      44.0|           403.9200000000002|                   168.60000000000068|          15269.579999999993|                                 8.0|        1.0512820512820513|       4.575569395017791|\n",
      "|          72|2021-02-01 00:00:00|       green|   9811.500000000002|               1083.5|                    6.0|                     71.53|          146.88000000000005|                   124.49999999999918|          11248.910000000002|                                 0.0|                      1.25|      4.3061445783132495|\n",
      "|          29|2020-05-01 00:00:00|       green|  14893.319999999992|                 27.0|                   45.5|        232.04000000000002|           539.6100000000002|                   141.89999999999966|           15997.61999999998|                                2.75|        1.1692307692307693|      10.338435517970407|\n",
      "+------------+-------------------+------------+--------------------+---------------------+-----------------------+--------------------------+----------------------------+-------------------------------------+----------------------------+------------------------------------+--------------------------+------------------------+\n",
      "only showing top 20 rows\n",
      "\n"
     ]
    },
    {
     "name": "stderr",
     "output_type": "stream",
     "text": [
      "\r",
      "                                                                                \r"
     ]
    }
   ],
   "source": [
    "df_result.show()"
   ]
  },
  {
   "cell_type": "code",
   "execution_count": 47,
   "id": "7f88c87f",
   "metadata": {},
   "outputs": [
    {
     "name": "stderr",
     "output_type": "stream",
     "text": [
      "                                                                                \r"
     ]
    }
   ],
   "source": [
    "# Write result to a parquet file\n",
    "df_result.coalesce(1).write.parquet('data/report/revenue', mode='overwrite')"
   ]
  },
  {
   "cell_type": "code",
   "execution_count": null,
   "id": "155e33ca",
   "metadata": {},
   "outputs": [],
   "source": []
  }
 ],
 "metadata": {
  "kernelspec": {
   "display_name": "Python 3 (ipykernel)",
   "language": "python",
   "name": "python3"
  },
  "language_info": {
   "codemirror_mode": {
    "name": "ipython",
    "version": 3
   },
   "file_extension": ".py",
   "mimetype": "text/x-python",
   "name": "python",
   "nbconvert_exporter": "python",
   "pygments_lexer": "ipython3",
   "version": "3.9.7"
  }
 },
 "nbformat": 4,
 "nbformat_minor": 5
}
