{
 "cells": [
  {
   "cell_type": "code",
   "execution_count": 1,
   "id": "ffef54e5",
   "metadata": {},
   "outputs": [
    {
     "name": "stderr",
     "output_type": "stream",
     "text": [
      "WARNING: An illegal reflective access operation has occurred\n",
      "WARNING: Illegal reflective access by org.apache.spark.unsafe.Platform (file:/home/toluwani/spark/spark-3.0.3-bin-hadoop3.2/jars/spark-unsafe_2.12-3.0.3.jar) to constructor java.nio.DirectByteBuffer(long,int)\n",
      "WARNING: Please consider reporting this to the maintainers of org.apache.spark.unsafe.Platform\n",
      "WARNING: Use --illegal-access=warn to enable warnings of further illegal reflective access operations\n",
      "WARNING: All illegal access operations will be denied in a future release\n",
      "22/03/03 16:25:41 WARN NativeCodeLoader: Unable to load native-hadoop library for your platform... using builtin-java classes where applicable\n",
      "Using Spark's default log4j profile: org/apache/spark/log4j-defaults.properties\n",
      "Setting default log level to \"WARN\".\n",
      "To adjust logging level use sc.setLogLevel(newLevel). For SparkR, use setLogLevel(newLevel).\n"
     ]
    }
   ],
   "source": [
    "import pyspark\n",
    "from pyspark.sql import SparkSession\n",
    "\n",
    "spark = SparkSession.builder \\\n",
    "    .master(\"local[*]\") \\\n",
    "    .appName('test') \\\n",
    "    .getOrCreate()"
   ]
  },
  {
   "cell_type": "code",
   "execution_count": 2,
   "id": "30c5e66b",
   "metadata": {},
   "outputs": [
    {
     "name": "stderr",
     "output_type": "stream",
     "text": [
      "\r",
      "[Stage 0:>                                                          (0 + 1) / 1]\r",
      "\r",
      "                                                                                \r"
     ]
    }
   ],
   "source": [
    "df_green = spark.read.parquet('data/pq/green/*/*')"
   ]
  },
  {
   "cell_type": "code",
   "execution_count": 3,
   "id": "637701c4",
   "metadata": {},
   "outputs": [],
   "source": [
    "df_green.registerTempTable('green')"
   ]
  },
  {
   "cell_type": "code",
   "execution_count": 4,
   "id": "1bb09d3e",
   "metadata": {},
   "outputs": [
    {
     "data": {
      "text/plain": [
       "['VendorID',\n",
       " 'lpep_pickup_datetime',\n",
       " 'lpep_dropoff_datetime',\n",
       " 'store_and_fwd_flag',\n",
       " 'RatecodeID',\n",
       " 'PULocationID',\n",
       " 'DOLocationID',\n",
       " 'passenger_count',\n",
       " 'trip_distance',\n",
       " 'fare_amount',\n",
       " 'extra',\n",
       " 'mta_tax',\n",
       " 'tip_amount',\n",
       " 'tolls_amount',\n",
       " 'ehail_fee',\n",
       " 'improvement_surcharge',\n",
       " 'total_amount',\n",
       " 'payment_type',\n",
       " 'trip_type',\n",
       " 'congestion_surcharge']"
      ]
     },
     "execution_count": 4,
     "metadata": {},
     "output_type": "execute_result"
    }
   ],
   "source": [
    "df_green.columns"
   ]
  },
  {
   "cell_type": "code",
   "execution_count": 14,
   "id": "85ab84ad",
   "metadata": {},
   "outputs": [],
   "source": [
    "df_green_revenue = spark.sql(\"\"\"\n",
    "SELECT\n",
    "    date_trunc('hour', lpep_pickup_datetime) AS hour,\n",
    "    PULocationID AS zone,\n",
    "    \n",
    "    SUM(total_amount) AS amount,\n",
    "    COUNT(1) AS number_of_records\n",
    "FROM \n",
    "    green\n",
    "WHERE\n",
    "    lpep_pickup_datetime >= '2020-01-01 00:00:00'\n",
    "GROUP BY \n",
    "    1, 2\n",
    "\"\"\")"
   ]
  },
  {
   "cell_type": "code",
   "execution_count": 12,
   "id": "233f0fca",
   "metadata": {},
   "outputs": [
    {
     "name": "stderr",
     "output_type": "stream",
     "text": [
      "[Stage 6:==================================>                    (126 + 4) / 200]\r"
     ]
    },
    {
     "name": "stdout",
     "output_type": "stream",
     "text": [
      "+-------------------+----+------------------+-----------------+\n",
      "|               hour|zone|            amount|number_of_records|\n",
      "+-------------------+----+------------------+-----------------+\n",
      "|2020-01-01 00:00:00|   7| 769.7299999999996|               45|\n",
      "|2020-01-01 00:00:00|  17|            195.03|                9|\n",
      "|2020-01-01 00:00:00|  18|               7.8|                1|\n",
      "|2020-01-01 00:00:00|  22|              15.8|                1|\n",
      "|2020-01-01 00:00:00|  24|              87.6|                3|\n",
      "|2020-01-01 00:00:00|  25|             531.0|               26|\n",
      "|2020-01-01 00:00:00|  29|              61.3|                1|\n",
      "|2020-01-01 00:00:00|  32| 68.94999999999999|                2|\n",
      "|2020-01-01 00:00:00|  33|            317.27|               11|\n",
      "|2020-01-01 00:00:00|  35|            129.96|                5|\n",
      "|2020-01-01 00:00:00|  36|295.34000000000003|               11|\n",
      "|2020-01-01 00:00:00|  37|            175.67|                6|\n",
      "|2020-01-01 00:00:00|  38| 98.78999999999999|                2|\n",
      "|2020-01-01 00:00:00|  40|168.98000000000002|                8|\n",
      "|2020-01-01 00:00:00|  41|1363.9599999999987|               84|\n",
      "|2020-01-01 00:00:00|  42| 799.7599999999996|               52|\n",
      "|2020-01-01 00:00:00|  43|107.52000000000001|                6|\n",
      "|2020-01-01 00:00:00|  47|              13.3|                1|\n",
      "|2020-01-01 00:00:00|  49|            266.76|               14|\n",
      "|2020-01-01 00:00:00|  51|              17.8|                2|\n",
      "+-------------------+----+------------------+-----------------+\n",
      "only showing top 20 rows\n",
      "\n"
     ]
    },
    {
     "name": "stderr",
     "output_type": "stream",
     "text": [
      "\r",
      "[Stage 6:=============================================>         (164 + 4) / 200]\r",
      "\r",
      "                                                                                \r"
     ]
    }
   ],
   "source": [
    "df_green_revenue.show()"
   ]
  },
  {
   "cell_type": "code",
   "execution_count": 20,
   "id": "e29a57ae",
   "metadata": {},
   "outputs": [
    {
     "name": "stderr",
     "output_type": "stream",
     "text": [
      "                                                                                \r"
     ]
    }
   ],
   "source": [
    "df_green_revenue \\\n",
    "    .repartition(20) \\\n",
    "    .write.parquet('data/report/revenue/green', mode='overwrite')"
   ]
  },
  {
   "cell_type": "code",
   "execution_count": 17,
   "id": "003cbaaf",
   "metadata": {},
   "outputs": [],
   "source": [
    "df_yellow = spark.read.parquet('data/pq/yellow/*/*')\n",
    "df_yellow.registerTempTable('yellow')"
   ]
  },
  {
   "cell_type": "code",
   "execution_count": 18,
   "id": "dd11169b",
   "metadata": {},
   "outputs": [],
   "source": [
    "df_yellow_revenue = spark.sql(\"\"\"\n",
    "SELECT\n",
    "    date_trunc('hour', tpep_pickup_datetime) AS hour,\n",
    "    PULocationID AS zone,\n",
    "    \n",
    "    SUM(total_amount) AS amount,\n",
    "    COUNT(1) AS number_of_records\n",
    "FROM \n",
    "    yellow\n",
    "WHERE\n",
    "    tpep_pickup_datetime >= '2020-01-01 00:00:00'\n",
    "GROUP BY \n",
    "    1, 2\n",
    "\"\"\")"
   ]
  },
  {
   "cell_type": "code",
   "execution_count": 21,
   "id": "18ed070c",
   "metadata": {},
   "outputs": [
    {
     "name": "stderr",
     "output_type": "stream",
     "text": [
      "                                                                                \r"
     ]
    }
   ],
   "source": [
    "df_yellow_revenue \\\n",
    "    .repartition(20) \\\n",
    "    .write.parquet('data/report/revenue/yellow', mode='overwrite')"
   ]
  },
  {
   "cell_type": "code",
   "execution_count": 31,
   "id": "ccbc62b3",
   "metadata": {},
   "outputs": [],
   "source": [
    "df_green_revenue = spark.read.parquet('data/report/revenue/green')\n",
    "df_yellow_revenue = spark.read.parquet('data/report/revenue/yellow')"
   ]
  },
  {
   "cell_type": "code",
   "execution_count": 32,
   "id": "a079f49e",
   "metadata": {},
   "outputs": [],
   "source": [
    "df_green_revenue_tmp = df_green_revenue \\\n",
    "    .withColumnRenamed('amount', 'green_amount') \\\n",
    "    .withColumnRenamed('number_of_records', 'green_number_of_records')\n",
    "\n",
    "df_yellow_revenue_tmp = df_yellow_revenue \\\n",
    "    .withColumnRenamed('amount', 'yellow_amount') \\\n",
    "    .withColumnRenamed('number_of_records', 'yellow_number_of_records')"
   ]
  },
  {
   "cell_type": "code",
   "execution_count": 33,
   "id": "3a4247e7",
   "metadata": {},
   "outputs": [],
   "source": [
    "df_join = df_green_revenue_tmp.join(df_yellow_revenue_tmp, on=['hour', 'zone'], how='outer')"
   ]
  },
  {
   "cell_type": "code",
   "execution_count": 35,
   "id": "5c92438e",
   "metadata": {},
   "outputs": [
    {
     "name": "stderr",
     "output_type": "stream",
     "text": [
      "                                                                                \r"
     ]
    }
   ],
   "source": [
    "df_join \\\n",
    "    .repartition(20) \\\n",
    "    .write.parquet('data/report/revenue/total', mode='overwrite')"
   ]
  },
  {
   "cell_type": "code",
   "execution_count": 28,
   "id": "b90ece76",
   "metadata": {},
   "outputs": [
    {
     "name": "stderr",
     "output_type": "stream",
     "text": [
      "[Stage 23:==================================================>     (10 + 1) / 11]\r"
     ]
    },
    {
     "name": "stdout",
     "output_type": "stream",
     "text": [
      "+-------------------+----+------------+-----------------------+------------------+------------------------+\n",
      "|               hour|zone|green_amount|green_number_of_records|     yellow_amount|yellow_number_of_records|\n",
      "+-------------------+----+------------+-----------------------+------------------+------------------------+\n",
      "|2020-01-01 00:00:00|   3|        null|                   null|              25.0|                       1|\n",
      "|2020-01-01 01:00:00|  17|      598.15|                     18|            464.51|                      18|\n",
      "|2020-01-01 01:00:00| 107|        null|                   null| 9994.480000000021|                     583|\n",
      "|2020-01-01 01:00:00| 162|        null|                   null| 5736.690000000002|                     298|\n",
      "|2020-01-01 02:00:00| 234|        null|                   null| 6759.990000000009|                     370|\n",
      "|2020-01-01 03:00:00| 170|        null|                   null|            4632.0|                     257|\n",
      "|2020-01-01 04:00:00|  22|        null|                   null|             12.96|                       1|\n",
      "|2020-01-01 06:00:00| 255|      121.12|                      3|36.260000000000005|                       3|\n",
      "|2020-01-01 07:00:00| 235|       32.95|                      2|              null|                    null|\n",
      "|2020-01-01 09:00:00|  70|        null|                   null|              54.9|                       3|\n",
      "|2020-01-01 10:00:00| 181|       54.56|                      5|             70.45|                       2|\n",
      "|2020-01-01 13:00:00| 224|        null|                   null|272.71000000000004|                      18|\n",
      "|2020-01-01 15:00:00| 123|       35.71|                      2|              null|                    null|\n",
      "|2020-01-01 18:00:00|  68|        null|                   null| 3645.649999999997|                     213|\n",
      "|2020-01-01 19:00:00| 100|        null|                   null| 2726.739999999997|                     175|\n",
      "|2020-01-01 23:00:00| 234|        null|                   null|1388.0899999999997|                      88|\n",
      "|2020-01-02 00:00:00| 219|        null|                   null|              61.3|                       1|\n",
      "|2020-01-02 02:00:00|   7|        10.3|                      1| 66.89999999999999|                       4|\n",
      "|2020-01-02 04:00:00|  36|       33.36|                      2|              null|                    null|\n",
      "|2020-01-02 05:00:00|   7|       54.22|                      2|            212.11|                      11|\n",
      "+-------------------+----+------------+-----------------------+------------------+------------------------+\n",
      "only showing top 20 rows\n",
      "\n"
     ]
    },
    {
     "name": "stderr",
     "output_type": "stream",
     "text": [
      "\r",
      "                                                                                \r"
     ]
    }
   ],
   "source": [
    "df_join.show()"
   ]
  },
  {
   "cell_type": "code",
   "execution_count": 36,
   "id": "e12dcc41",
   "metadata": {},
   "outputs": [],
   "source": [
    "df_join = spark.read.parquet('data/report/revenue/total')"
   ]
  },
  {
   "cell_type": "code",
   "execution_count": 37,
   "id": "23059a82",
   "metadata": {},
   "outputs": [
    {
     "name": "stdout",
     "output_type": "stream",
     "text": [
      "+-------------------+----+-----------------+-----------------------+------------------+------------------------+\n",
      "|               hour|zone|     green_amount|green_number_of_records|     yellow_amount|yellow_number_of_records|\n",
      "+-------------------+----+-----------------+-----------------------+------------------+------------------------+\n",
      "|2020-08-27 16:00:00| 197|848.9999999999998|                     17|            398.18|                       8|\n",
      "|2020-03-03 18:00:00|  36|             null|                   null|              16.8|                       1|\n",
      "|2020-05-02 05:00:00| 234|             null|                   null|               9.3|                       1|\n",
      "|2021-04-07 02:00:00| 164|             null|                   null|50.260000000000005|                       2|\n",
      "|2020-08-07 01:00:00| 228|             null|                   null|             382.0|                       5|\n",
      "|2020-07-11 21:00:00|  79|             null|                   null|            330.24|                      20|\n",
      "|2020-01-22 13:00:00| 244|           589.11|                     28|            180.64|                      10|\n",
      "|2020-07-04 11:00:00| 237|             null|                   null|194.79000000000002|                      18|\n",
      "|2021-07-11 20:00:00| 211|             null|                   null| 794.6600000000003|                      43|\n",
      "|2021-05-22 10:00:00| 181|             null|                   null|             27.96|                       1|\n",
      "|2020-07-06 16:00:00| 121|             31.0|                      1|              null|                    null|\n",
      "|2020-11-23 16:00:00| 112|            66.29|                      2|              null|                    null|\n",
      "|2021-05-09 15:00:00|  91|             null|                   null|             85.13|                       2|\n",
      "|2020-07-10 01:00:00| 181|             null|                   null|              16.8|                       1|\n",
      "|2021-02-14 05:00:00|  76|             null|                   null|             60.92|                       1|\n",
      "|2020-07-08 11:00:00| 125|             null|                   null| 93.44999999999999|                       6|\n",
      "|2020-06-28 14:00:00|  41|           190.54|                      8|            192.94|                      10|\n",
      "|2020-03-02 10:00:00|   7|           191.33|                     14|121.91999999999999|                       9|\n",
      "|2020-06-14 17:00:00| 191|             null|                   null|             37.06|                       1|\n",
      "|2020-03-21 16:00:00| 247|              8.8|                      1|               8.8|                       1|\n",
      "+-------------------+----+-----------------+-----------------------+------------------+------------------------+\n",
      "only showing top 20 rows\n",
      "\n"
     ]
    }
   ],
   "source": [
    "df_join.show()"
   ]
  },
  {
   "cell_type": "code",
   "execution_count": 40,
   "id": "edab6c10",
   "metadata": {},
   "outputs": [],
   "source": [
    "from pyspark.sql import types"
   ]
  },
  {
   "cell_type": "code",
   "execution_count": 41,
   "id": "a50aa88c",
   "metadata": {},
   "outputs": [],
   "source": [
    "zone_schema = types.StructType([\n",
    "    types.StructField(\"LocationID\",types.IntegerType(),True),\n",
    "    types.StructField(\"Borough\",types.StringType(),True),\n",
    "    types.StructField(\"Zone\",types.StringType(),True),\n",
    "    types.StructField(\"service_zone\",types.StringType(),True)\n",
    "])"
   ]
  },
  {
   "cell_type": "code",
   "execution_count": 43,
   "id": "618cf1d3",
   "metadata": {},
   "outputs": [],
   "source": [
    "df_zones = spark.read \\\n",
    "    .schema(zone_schema) \\\n",
    "    .option(\"header\", \"true\") \\\n",
    "    .csv(\"taxi+_zone_lookup.csv\")"
   ]
  },
  {
   "cell_type": "code",
   "execution_count": 44,
   "id": "c5d13bc0",
   "metadata": {},
   "outputs": [
    {
     "name": "stdout",
     "output_type": "stream",
     "text": [
      "+----------+-------------+--------------------+------------+\n",
      "|LocationID|      Borough|                Zone|service_zone|\n",
      "+----------+-------------+--------------------+------------+\n",
      "|         1|          EWR|      Newark Airport|         EWR|\n",
      "|         2|       Queens|         Jamaica Bay|   Boro Zone|\n",
      "|         3|        Bronx|Allerton/Pelham G...|   Boro Zone|\n",
      "|         4|    Manhattan|       Alphabet City| Yellow Zone|\n",
      "|         5|Staten Island|       Arden Heights|   Boro Zone|\n",
      "|         6|Staten Island|Arrochar/Fort Wad...|   Boro Zone|\n",
      "|         7|       Queens|             Astoria|   Boro Zone|\n",
      "|         8|       Queens|        Astoria Park|   Boro Zone|\n",
      "|         9|       Queens|          Auburndale|   Boro Zone|\n",
      "|        10|       Queens|        Baisley Park|   Boro Zone|\n",
      "|        11|     Brooklyn|          Bath Beach|   Boro Zone|\n",
      "|        12|    Manhattan|        Battery Park| Yellow Zone|\n",
      "|        13|    Manhattan|   Battery Park City| Yellow Zone|\n",
      "|        14|     Brooklyn|           Bay Ridge|   Boro Zone|\n",
      "|        15|       Queens|Bay Terrace/Fort ...|   Boro Zone|\n",
      "|        16|       Queens|             Bayside|   Boro Zone|\n",
      "|        17|     Brooklyn|             Bedford|   Boro Zone|\n",
      "|        18|        Bronx|        Bedford Park|   Boro Zone|\n",
      "|        19|       Queens|           Bellerose|   Boro Zone|\n",
      "|        20|        Bronx|             Belmont|   Boro Zone|\n",
      "+----------+-------------+--------------------+------------+\n",
      "only showing top 20 rows\n",
      "\n"
     ]
    }
   ],
   "source": [
    "df_zones.show()"
   ]
  },
  {
   "cell_type": "code",
   "execution_count": 45,
   "id": "f3c40cc1",
   "metadata": {},
   "outputs": [],
   "source": [
    "df_result = df_join.join(df_zones, df_join.zone == df_zones.LocationID)"
   ]
  },
  {
   "cell_type": "code",
   "execution_count": 49,
   "id": "41c178a7",
   "metadata": {},
   "outputs": [
    {
     "name": "stderr",
     "output_type": "stream",
     "text": [
      "                                                                                \r"
     ]
    }
   ],
   "source": [
    "df_result.drop('LocationID', 'zone').write.parquet('data/tmp/revenue-zones')"
   ]
  },
  {
   "cell_type": "code",
   "execution_count": null,
   "id": "2fa55c12",
   "metadata": {},
   "outputs": [],
   "source": []
  }
 ],
 "metadata": {
  "kernelspec": {
   "display_name": "Python 3 (ipykernel)",
   "language": "python",
   "name": "python3"
  },
  "language_info": {
   "codemirror_mode": {
    "name": "ipython",
    "version": 3
   },
   "file_extension": ".py",
   "mimetype": "text/x-python",
   "name": "python",
   "nbconvert_exporter": "python",
   "pygments_lexer": "ipython3",
   "version": "3.9.7"
  }
 },
 "nbformat": 4,
 "nbformat_minor": 5
}
